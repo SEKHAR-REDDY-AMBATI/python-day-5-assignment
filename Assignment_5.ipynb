{
  "nbformat": 4,
  "nbformat_minor": 0,
  "metadata": {
    "colab": {
      "name": "Assignment 5.ipynb",
      "provenance": [],
      "collapsed_sections": []
    },
    "kernelspec": {
      "name": "python3",
      "display_name": "Python 3"
    },
    "language_info": {
      "name": "python"
    }
  },
  "cells": [
    {
      "cell_type": "code",
      "metadata": {
        "colab": {
          "base_uri": "https://localhost:8080/"
        },
        "id": "r37UNqIW1-yJ",
        "outputId": "20a61ff2-dc09-4a00-9190-abfa10d424a1"
      },
      "source": [
        "#Find a number is prime or not\n",
        "\n",
        "def isPrime(num):\n",
        "    for i in range(2, int(num/2+1)):\n",
        "        if(num % i == 0):\n",
        "            print(num, \" is not a Prime Number.\")\n",
        "            break\n",
        "    else:\n",
        "        print(num, \" is a Prime Number.\")\n",
        "\n",
        "print(\"Enter the number to check if it is a prime number\")\n",
        "a = int(input())\n",
        "isPrime(a)\n"
      ],
      "execution_count": null,
      "outputs": [
        {
          "output_type": "stream",
          "text": [
            "Enter the number to check if it is a prime number\n",
            "4\n",
            "4  is not a Prime Number.\n"
          ],
          "name": "stdout"
        }
      ]
    },
    {
      "cell_type": "code",
      "metadata": {
        "colab": {
          "base_uri": "https://localhost:8080/",
          "height": 385
        },
        "id": "H0SmwK2x2nVe",
        "outputId": "f0f2f955-c6f4-47f7-e8a9-dc4c629fba81"
      },
      "source": [
        "# YouTube Video Downloader:\n",
        "\n",
        "from pytube import YouTube\n",
        "\n",
        "video = YouTube(input(\"Enter the link of Video to Download: \"))\n",
        "\n",
        "print(video.title)\n",
        "\n",
        "print(video.thumbnail_url)\n",
        "\n",
        "streams = video.streams\n",
        "\n",
        "for stream in streams:\n",
        "    print(stream)\n",
        "\n",
        "stream = video.streams.get_by_itag(\n",
        "    input(\"Enter the itag number you see below for the preferred quality : \"))\n",
        "\n",
        "\n",
        "file_size = stream.filesize\n",
        "\n",
        "print(round(file_size/(1024*1024)), \" MB\")\n",
        "\n",
        "print(\"Download Started ....... wait for a while....\")\n",
        "\n",
        "print(\"Download Successfully Compledted !\")\n"
      ],
      "execution_count": null,
      "outputs": [
        {
          "output_type": "error",
          "ename": "ModuleNotFoundError",
          "evalue": "ignored",
          "traceback": [
            "\u001b[0;31m---------------------------------------------------------------------------\u001b[0m",
            "\u001b[0;31mModuleNotFoundError\u001b[0m                       Traceback (most recent call last)",
            "\u001b[0;32m<ipython-input-4-c680604c2c5a>\u001b[0m in \u001b[0;36m<module>\u001b[0;34m()\u001b[0m\n\u001b[1;32m      1\u001b[0m \u001b[0;31m# YouTube Video Downloader:\u001b[0m\u001b[0;34m\u001b[0m\u001b[0;34m\u001b[0m\u001b[0;34m\u001b[0m\u001b[0m\n\u001b[1;32m      2\u001b[0m \u001b[0;34m\u001b[0m\u001b[0m\n\u001b[0;32m----> 3\u001b[0;31m \u001b[0;32mfrom\u001b[0m \u001b[0mpytube\u001b[0m \u001b[0;32mimport\u001b[0m \u001b[0mYouTube\u001b[0m\u001b[0;34m\u001b[0m\u001b[0;34m\u001b[0m\u001b[0m\n\u001b[0m\u001b[1;32m      4\u001b[0m \u001b[0;34m\u001b[0m\u001b[0m\n\u001b[1;32m      5\u001b[0m \u001b[0mvideo\u001b[0m \u001b[0;34m=\u001b[0m \u001b[0mYouTube\u001b[0m\u001b[0;34m(\u001b[0m\u001b[0minput\u001b[0m\u001b[0;34m(\u001b[0m\u001b[0;34m\"Enter the link of Video to Download: \"\u001b[0m\u001b[0;34m)\u001b[0m\u001b[0;34m)\u001b[0m\u001b[0;34m\u001b[0m\u001b[0;34m\u001b[0m\u001b[0m\n",
            "\u001b[0;31mModuleNotFoundError\u001b[0m: No module named 'pytube'",
            "",
            "\u001b[0;31m---------------------------------------------------------------------------\u001b[0;32m\nNOTE: If your import is failing due to a missing package, you can\nmanually install dependencies using either !pip or !apt.\n\nTo view examples of installing some common dependencies, click the\n\"Open Examples\" button below.\n\u001b[0;31m---------------------------------------------------------------------------\u001b[0m\n"
          ]
        }
      ]
    }
  ]
}